{
 "cells": [
  {
   "cell_type": "code",
   "execution_count": 25,
   "metadata": {},
   "outputs": [],
   "source": [
    "\n",
    "import torch\n",
    "from enformer_pytorch import Enformer\n",
    "\n",
    "model = Enformer(\n",
    "    dim = 1536,\n",
    "    depth = 11,\n",
    "    heads = 8,\n",
    "    output_heads = dict(y1 = 50, y2 = 50),\n",
    "    target_length = 4,\n",
    ")"
   ]
  },
  {
   "cell_type": "code",
   "execution_count": 28,
   "metadata": {},
   "outputs": [],
   "source": [
    "\n",
    "# seq = torch.randint(0, 5, (1, 196_608)) # for ACGTN, in that order (-1 for padding)\n",
    "seq_batch = torch.randint(0, 5, (16, 1000)) # for ACGTN, in that order (-1 for padding)\n",
    "\n",
    "output = model(seq_batch)\n"
   ]
  },
  {
   "cell_type": "code",
   "execution_count": 30,
   "metadata": {},
   "outputs": [
    {
     "data": {
      "text/plain": [
       "torch.Size([16, 4, 50])"
      ]
     },
     "execution_count": 30,
     "metadata": {},
     "output_type": "execute_result"
    }
   ],
   "source": [
    "output['y1'].shape # (1, 896, 5313)\n"
   ]
  },
  {
   "cell_type": "code",
   "execution_count": 31,
   "metadata": {},
   "outputs": [
    {
     "data": {
      "text/plain": [
       "torch.Size([16, 4, 50])"
      ]
     },
     "execution_count": 31,
     "metadata": {},
     "output_type": "execute_result"
    }
   ],
   "source": [
    "output['y2'].shape # (1, 896, 1643)"
   ]
  },
  {
   "cell_type": "code",
   "execution_count": null,
   "metadata": {},
   "outputs": [],
   "source": []
  },
  {
   "cell_type": "code",
   "execution_count": null,
   "metadata": {},
   "outputs": [],
   "source": []
  }
 ],
 "metadata": {
  "interpreter": {
   "hash": "a29d6e4ec81f9a17f65c7aa6eb72ef154314851fc18f76fb03d7be4238fa0df8"
  },
  "kernelspec": {
   "display_name": "Python 3.9.5 64-bit ('deepenv': conda)",
   "language": "python",
   "name": "python3"
  },
  "language_info": {
   "codemirror_mode": {
    "name": "ipython",
    "version": 3
   },
   "file_extension": ".py",
   "mimetype": "text/x-python",
   "name": "python",
   "nbconvert_exporter": "python",
   "pygments_lexer": "ipython3",
   "version": "3.9.5"
  },
  "orig_nbformat": 4
 },
 "nbformat": 4,
 "nbformat_minor": 2
}
